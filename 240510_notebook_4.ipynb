{
  "cells": [
    {
      "cell_type": "markdown",
      "metadata": {
        "id": "view-in-github",
        "colab_type": "text"
      },
      "source": [
        "<a href=\"https://colab.research.google.com/github/ohki-yu0225/toukei_1B_4/blob/main/240510_notebook_4.ipynb\" target=\"_parent\"><img src=\"https://colab.research.google.com/assets/colab-badge.svg\" alt=\"Open In Colab\"/></a>"
      ]
    },
    {
      "cell_type": "markdown",
      "id": "e9a485d9",
      "metadata": {
        "id": "e9a485d9"
      },
      "source": [
        "# 統計学実習 IB 第 4 回\n",
        "\n",
        "担当：大木 有<br>\n",
        "日時：2025 年 5 月 10 日（金）\n",
        "\n",
        "### 内容\n",
        "\n",
        "- 代表値\n",
        "- 広がりの尺度\n",
        "\n",
        "### データ\n",
        "\n",
        "- 解析対象：世界のサッカー選手のデータ (2022/2023 シーズン)\n",
        "- 出典：EA Sports FC 24 complete player dataset (https://www.kaggle.com/datasets/stefanoleone992/ea-sports-fc-24-complete-player-dataset?select=male_players.csv)\n"
      ]
    },
    {
      "cell_type": "markdown",
      "id": "97727fe1",
      "metadata": {
        "id": "97727fe1"
      },
      "source": [
        "# Statistics Practice IB 4th\n",
        "\n",
        "Contact: Yu Ohki<br> Date: May 10, 2024\n",
        "Date: Friday, May 10, 2024\n",
        "\n",
        "### Contents\n",
        "\n",
        "- Representative value\n",
        "- Measures of dispersion\n",
        "\n",
        "### Data\n",
        "\n",
        "- Data of world football players (2022/2023 season)\n",
        "- Source: EA Sports FC 24 complete player dataset (https://www.kaggle.com/datasets/stefanoleone992/ea-sports-fc-24-complete-player-dataset? select=male_players.csv)"
      ]
    },
    {
      "cell_type": "markdown",
      "id": "b5f1a7de",
      "metadata": {
        "id": "b5f1a7de"
      },
      "source": [
        "## データ分析の準備\n"
      ]
    },
    {
      "cell_type": "markdown",
      "id": "b7ed31f8",
      "metadata": {
        "id": "b7ed31f8"
      },
      "source": [
        "## Preparation of data analysis\n"
      ]
    },
    {
      "cell_type": "code",
      "execution_count": null,
      "id": "69f8bcfd",
      "metadata": {
        "id": "69f8bcfd"
      },
      "outputs": [],
      "source": [
        "!pip install japanize-matplotlib\n",
        "import pandas as pd\n",
        "import numpy as np\n",
        "import matplotlib.pyplot as plt\n",
        "import japanize_matplotlib"
      ]
    },
    {
      "cell_type": "code",
      "execution_count": null,
      "id": "97bb0f37",
      "metadata": {
        "id": "97bb0f37"
      },
      "outputs": [],
      "source": [
        "# 練習 1: 'sample_4-1.csv'を読み込んで、変数'data'に代入し、最初の10行を表示してください。\n",
        "# Exercise 1: Read 'sample_4-1.csv', assign it to the variable 'data' and display the first 10 rows.\n"
      ]
    },
    {
      "cell_type": "markdown",
      "id": "3a23574b",
      "metadata": {
        "id": "3a23574b"
      },
      "source": [
        "Name: 名前 <br>\n",
        "Value: 市場価値（ユーロ[EUR]）<br>\n",
        "Wage: 週給（ユーロ[EUR/Week]）<br>\n",
        "Age: 年齢<br>\n",
        "Height: 身長(cm)<br>\n",
        "Weight: 体重(kg)<br>\n",
        "Club: 所属クラブ<br>\n",
        "League: 所属リーグ<br>\n",
        "Nationality: 国籍<br>\n"
      ]
    },
    {
      "cell_type": "code",
      "execution_count": null,
      "id": "4a87c54b",
      "metadata": {
        "id": "4a87c54b"
      },
      "outputs": [],
      "source": [
        "# データの行数・列数などを表示する。\n",
        "# Display the number of rows, columns, etc. of data.\n",
        "data.info()"
      ]
    },
    {
      "cell_type": "code",
      "execution_count": null,
      "id": "b4fe25de",
      "metadata": {
        "id": "b4fe25de"
      },
      "outputs": [],
      "source": [
        "# 市場価値を円に換算して、億円を単位とした値を、dataに新しい列'Value_JPY'として追加する。\n",
        "# Convert the market value into yen, adding the value in units of 100 million yen to data as a new column 'Value_JPY'.\n",
        "# 1ユーロ (EUR) = 約165円 (JPY)\n",
        "# 1億 (100 million) = 10の8乗 (10^8)\n",
        "data[\"Value_JPY\"] = data[\"Value\"] * 165 / (10**8)\n",
        "data.head(10)"
      ]
    },
    {
      "cell_type": "code",
      "execution_count": null,
      "id": "cd55a3fc",
      "metadata": {
        "id": "cd55a3fc"
      },
      "outputs": [],
      "source": [
        "# 練習2: 週給を年俸（円）に換算して、億円を単位とした値を、dataに新しい列'Wage_JPY_y'として追加してください。\n",
        "# Exercise 2: Convert weekly salary to annual salary in JPY; adding the value in units of 100 million JPY as a new column 'Wage_JPY_y' in the data.\n",
        "# 1ユーロ (EUR) = 約165円 (JPY)\n",
        "# 1年 (Year) = 約52週 (Weeks)\n",
        "# 1億 (100 million) = 10の8乗 (10^8)\n"
      ]
    },
    {
      "cell_type": "markdown",
      "id": "99d44db8",
      "metadata": {
        "id": "99d44db8"
      },
      "source": [
        "## 代表値の計算\n",
        "\n",
        "### 平均値・中央値\n",
        "\n",
        "代表値はデータの分布の中心を表す指標である。よく使われる代表値として、平均値・中央値・最頻値を計算する。平均値と中央値の計算のためには計算には、`numpy`の関数を用いる。\n",
        "\n",
        "---\n",
        "\n",
        "```Python\n",
        "np.mean(a) #平均値\n",
        "np.median(a) #中央値\n",
        "```\n",
        "\n",
        "---\n"
      ]
    },
    {
      "cell_type": "markdown",
      "id": "1c246db0",
      "metadata": {
        "id": "1c246db0"
      },
      "source": [
        "## Calculate representative values\n",
        "\n",
        "### Mean and median\n",
        "\n",
        "The representative value is a measure of the center of the distribution of data. The mean, median, and mode are calculated as the most commonly used representative values. For mean and median calculations, the `numpy` function is used in the calculations.\n",
        "\n",
        "---\n",
        "\n",
        "```Python\n",
        "np.mean(a) #mean\n",
        "np.median(a) #median\n",
        "```\n",
        "\n",
        "---"
      ]
    },
    {
      "cell_type": "code",
      "execution_count": null,
      "id": "47dda9df",
      "metadata": {
        "id": "47dda9df"
      },
      "outputs": [],
      "source": [
        "# 市場価値の平均値と中央値を計算する。\n",
        "# Calculate the mean and median of market values.\n",
        "value = np.array(data[\"Value_JPY\"])\n",
        "# dataの'Value_JPY'列をnumpyのarray形式に変換して、変数'value'に代入 (Convert the 'Value_JPY' column of data into a numpy array format and assign it to the variable 'value')\n",
        "print(value)\n",
        "mean_v = np.mean(value)\n",
        "median_v = np.median(value)\n",
        "print(f\"市場価値の平均値(Mean))：{mean_v}億円\")\n",
        "print(f\"市場価値の中央値(Median)：{median_v}億円\")"
      ]
    },
    {
      "cell_type": "code",
      "execution_count": null,
      "id": "53c47b8e",
      "metadata": {
        "id": "53c47b8e"
      },
      "outputs": [],
      "source": [
        "# 練習 3: 年俸の平均値と中央値を計算してください。\n",
        "# Exercise 3: calculate the mean and median of the annual salaries.\n",
        "\n",
        "print(f\"年俸の平均値(Mean)：{...}億円\")\n",
        "print(f\"年俸の中央値(Median)：{...}億円\")"
      ]
    },
    {
      "cell_type": "markdown",
      "id": "6ff5c5c9",
      "metadata": {
        "id": "6ff5c5c9"
      },
      "source": [
        "### 最頻値\n",
        "\n",
        "量的データの最頻値は度数分布を求めてから、最も度数の大きい階級値として定義される。まずデータの度数分布を求める。次に、度数が最も大きくなるのが何番目の階級か調べる。最後に、その階級の階級値を計算すると、最頻値を求めることができる。最頻値は階級の幅によって変動する。最も大きい値をとる配列の順番を調べるには、`numpy`の`argmax`関数を用いる。\n",
        "\n",
        "---\n",
        "\n",
        "```Python\n",
        "np.argmax(a)\n",
        "```\n",
        "\n",
        "---\n"
      ]
    },
    {
      "cell_type": "markdown",
      "id": "345e5ec4",
      "metadata": {
        "id": "345e5ec4"
      },
      "source": [
        "### Mode\n",
        "\n",
        "The mode of quantitative data is defined as the class value with the highest frequency after obtaining the frequency distribution. First, the frequency distribution of the data is obtained. Next, find out the class with the largest frequency.Finally, the mode is calculated for the class value.Finally, by calculating the class value of the class, the mode can be obtained.The mode varies with the width of the class. To find out the order of the array with the largest value, use the `argmax` function of `numpy`.\n",
        "\n",
        "---\n",
        "\n",
        "```Python\n",
        "np.argmax(a)\n",
        "```\n",
        "\n",
        "---"
      ]
    },
    {
      "cell_type": "code",
      "execution_count": null,
      "id": "97b94ff9",
      "metadata": {
        "id": "97b94ff9"
      },
      "outputs": [],
      "source": [
        "# 市場価値の度数分布を求める。\n",
        "# Calculate the frequency distribution of market value.\n",
        "hist_v, edge_v = np.histogram(value, bins=100)\n",
        "print(\"度数\")  # Frequencies\n",
        "print(hist_v)\n",
        "print(\"階級\")  # Classes\n",
        "print(edge_v)"
      ]
    },
    {
      "cell_type": "code",
      "execution_count": null,
      "id": "adc888f7",
      "metadata": {
        "id": "adc888f7"
      },
      "outputs": [],
      "source": [
        "# 度数が最も大きくなる階級の階級値が最頻値となる。\n",
        "# The class value of the class with the largest frequency is the mode.\n",
        "idx_v = np.argmax(hist_v)  # 度数が最も大きくなるのが何番目の階級か調べる(Find out what class has the highest frequency.)\n",
        "lower_v = edge_v[idx_v]  # 級下限の値を取得(Obtain the value of the lower limit of the class)\n",
        "upper_v = edge_v[idx_v + 1]  # 級上限の値を取得(Obtain the value of the upper limit of the class)\n",
        "mode_v = (lower_v + upper_v) / 2  # 階級値の計算(=最頻値)(Calculation of the class value (= mode))\n",
        "print(f\"市場価値の最頻値(Mode)：{mode_v}億円\")"
      ]
    },
    {
      "cell_type": "code",
      "execution_count": null,
      "id": "9c660199",
      "metadata": {
        "id": "9c660199"
      },
      "outputs": [],
      "source": [
        "# 練習 4: 年俸の度数分布を求めてください。（階級の数:100）\n",
        "# Exercise 4: Calculate the frequency distribution of annual salaries (Number of classes: 100).\n",
        "\n",
        "print(\"度数(Frequencies)\")\n",
        "print(...)\n",
        "print(\"階級(Classes)\")\n",
        "print(...)"
      ]
    },
    {
      "cell_type": "code",
      "execution_count": null,
      "id": "713fee93",
      "metadata": {
        "id": "713fee93"
      },
      "outputs": [],
      "source": [
        "# 練習5: 年俸の最頻値を求めてください。\n",
        "# Exercise 5: Calculate the mode of the annual salary.\n",
        "\n",
        "print(f\"年俸の最頻値：{...}億円\")"
      ]
    },
    {
      "cell_type": "markdown",
      "id": "810d49b0",
      "metadata": {
        "id": "810d49b0"
      },
      "source": [
        "### 代表値の可視化\n",
        "\n",
        "前回の授業で練習したヒストグラムを作成し、ヒストグラム上に各種の代表値を可視化する。\n"
      ]
    },
    {
      "cell_type": "markdown",
      "id": "d3744a2f",
      "metadata": {
        "id": "d3744a2f"
      },
      "source": [
        "### Visualizing Representative Values\n",
        "\n",
        "Create the histograms practiced in the previous class and visualize the representative values on the histogram."
      ]
    },
    {
      "cell_type": "code",
      "execution_count": null,
      "id": "6ff64ad9",
      "metadata": {
        "id": "6ff64ad9"
      },
      "outputs": [],
      "source": [
        "# 市場価値のヒストグラムを図示する。\n",
        "# Illustrate the histogram of market values.\n",
        "plt.hist(value, bins=100)\n",
        "plt.title(\"市場価値のヒストグラム\")\n",
        "plt.xlabel(\"市場価値[億円]\")\n",
        "plt.ylabel(\"度数\")\n",
        "plt.axvline(mean_v, color=\"r\", label=\"平均値(Mean)\")\n",
        "plt.axvline(median_v, color=\"m\", label=\"中央値(Median)\")\n",
        "plt.axvline(mode_v, color=\"b\", label=\"最頻値(Mode)\")\n",
        "plt.legend()\n",
        "plt.xlim(0, 50)  # 軸の範囲を0,50億円にする(Set the range of the x-axis to 0,5 billion yen)"
      ]
    },
    {
      "cell_type": "code",
      "execution_count": null,
      "id": "77d6c5c7",
      "metadata": {
        "id": "77d6c5c7"
      },
      "outputs": [],
      "source": [
        "# 練習6 年俸のヒストグラムと平均値、中央値、最頻値を図示してください。その際にそれぞれの代表値の違いがわかりやすいように図示の範囲を設定してください。\n",
        "# Exercise 6: Illustrate the histogram and mean, median, and mode of the annual salary.\n",
        "# Set the range of the chart so that it is easy to see the difference between the representative values of each.\n"
      ]
    },
    {
      "cell_type": "markdown",
      "id": "860e7851",
      "metadata": {
        "id": "860e7851"
      },
      "source": [
        "### 練習\n",
        "\n",
        "所属クラブ、所属リーグ、国籍等を用いて、データを抽出して、代表値を計算する。\n"
      ]
    },
    {
      "cell_type": "markdown",
      "id": "2729d149",
      "metadata": {
        "id": "2729d149"
      },
      "source": [
        "### Practice exercise\n",
        "\n",
        "Extract data using clubs, leagues, and nationalities, to calculate representative values."
      ]
    },
    {
      "cell_type": "code",
      "execution_count": null,
      "id": "40fd85ff",
      "metadata": {
        "id": "40fd85ff"
      },
      "outputs": [],
      "source": [
        "# 例 日本人選手の年俸や市場価値の平均値を調べる。\n",
        "# Example: Find out the average annual salary and market value of Japanese players.\n",
        "data_jp = data[data[\"Nationality\"] == \"Japan\"]\n",
        "data_jp.sort_values(\"Value\", ascending=False).head(10)"
      ]
    },
    {
      "cell_type": "code",
      "execution_count": null,
      "id": "f2ac5394",
      "metadata": {
        "id": "f2ac5394"
      },
      "outputs": [],
      "source": [
        "data_jp.describe()"
      ]
    },
    {
      "cell_type": "code",
      "execution_count": null,
      "id": "6b3f0913",
      "metadata": {
        "id": "6b3f0913"
      },
      "outputs": [],
      "source": [
        "# 練習7 所属クラブ、所属リーグ、国籍等を用いて、お好きなデータを抽出してください。\n",
        "# Exercise 7: Extract the data of your choice using club, league, and nationality.\n"
      ]
    },
    {
      "cell_type": "code",
      "execution_count": null,
      "id": "8a8f0ca2",
      "metadata": {
        "id": "8a8f0ca2"
      },
      "outputs": [],
      "source": [
        "# 練習8 練習7と条件を変えて、所属クラブ、所属リーグ、国籍等を用いて、お好きなデータを抽出してください。\n",
        "# Exercise 8: Change the conditions to Practice　7 and extract the data of your choice using club, league, and nationality.\n"
      ]
    },
    {
      "cell_type": "code",
      "execution_count": null,
      "id": "ac584f11",
      "metadata": {
        "id": "ac584f11"
      },
      "outputs": [],
      "source": [
        "# 練習9 練習7で抽出したデータの平均値と中央値を計算してください。\n",
        "# Exercise 9: Calculate a representative values and measures of dispersion for the data extracted in Exercise 7.\n"
      ]
    },
    {
      "cell_type": "code",
      "execution_count": null,
      "id": "f5b9e235",
      "metadata": {
        "id": "f5b9e235"
      },
      "outputs": [],
      "source": [
        "# 練習10 練習8で抽出したデータの平均値と中央値を計算してください。\n",
        "# Exercise 10: Calculate a representative values and measures of dispersion for the data extracted in Exercise 8.\n"
      ]
    },
    {
      "cell_type": "code",
      "execution_count": null,
      "id": "c6208e4f",
      "metadata": {
        "id": "c6208e4f"
      },
      "outputs": [],
      "source": [
        "# 練習 11 練習9と練習10の結果からわかったことを記述してください。\n",
        "# Exercise 16: Describe what you found out from the results of Exercises 14 and 15.\n",
        "txt = \"{ここに答えを書く}\"\n",
        "print(f\"答え (Answer)：{txt}\")"
      ]
    }
  ],
  "metadata": {
    "kernelspec": {
      "display_name": "Python 3 (ipykernel)",
      "language": "python",
      "name": "python3"
    },
    "language_info": {
      "codemirror_mode": {
        "name": "ipython",
        "version": 3
      },
      "file_extension": ".py",
      "mimetype": "text/x-python",
      "name": "python",
      "nbconvert_exporter": "python",
      "pygments_lexer": "ipython3",
      "version": "3.10.14"
    },
    "colab": {
      "provenance": [],
      "include_colab_link": true
    }
  },
  "nbformat": 4,
  "nbformat_minor": 5
}